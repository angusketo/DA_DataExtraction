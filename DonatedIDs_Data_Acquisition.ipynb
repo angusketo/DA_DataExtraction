{
 "cells": [
  {
   "cell_type": "code",
   "execution_count": null,
   "metadata": {},
   "outputs": [],
   "source": [
    "from rdkit import Chem\n",
    "from rdkit.Chem import AllChem,Descriptors\n",
    "import itertools as itertools\n",
    "import copy, random,re,collections\n",
    "import pandas as pd\n",
    "import numpy as np"
   ]
  },
  {
   "cell_type": "markdown",
   "metadata": {},
   "source": [
    "# This notebook was used to extract data from Reaxys IDs used in the publication by Beker et al. https://doi.org/10.1002/anie.201806920\n",
    "These structures had been previously verified in their work so the task here was to extract as many of these reactions as possible."
   ]
  },
  {
   "cell_type": "code",
   "execution_count": null,
   "metadata": {},
   "outputs": [],
   "source": [
    "def clean_smiles(smiles,stereo=True):\n",
    "    \"\"\" Clean SMILES and make it consistent by running it through rdkit.chem\n",
    "    \n",
    "    dependencies: rdkit.Chem\"\"\"\n",
    "    clean_smiles = Chem.MolToSmiles(Chem.MolFromSmiles(smiles),isomericSmiles=stereo)\n",
    "    return clean_smiles"
   ]
  },
  {
   "cell_type": "markdown",
   "metadata": {},
   "source": [
    "# 1) Get Data from Excel Files"
   ]
  },
  {
   "cell_type": "code",
   "execution_count": null,
   "metadata": {
    "scrolled": true
   },
   "outputs": [],
   "source": [
    "### Your Reaxys results file\n",
    "df_master = pd.read_csv('mydataset.csv')\n",
    "\n",
    "df_master = df_master.rename(columns={'Reaction ID':'rxid'})\n",
    "my_cols = list(df_master.columns.values)\n",
    "df_master['rxid'] = df_master.apply (lambda row: str(row.values[my_cols.index('rxid')]), axis=1)\n",
    "\n",
    "### A file containing all the donated Reaxys IDs\n",
    "df_grzy = pd.read_csv('donatedIDs.csv') # \n",
    "df_grzy = df_grzy.drop_duplicates()\n"
   ]
  },
  {
   "cell_type": "markdown",
   "metadata": {},
   "source": [
    "## 1.1) Find any missing data"
   ]
  },
  {
   "cell_type": "code",
   "execution_count": null,
   "metadata": {},
   "outputs": [],
   "source": [
    "df_ls = []  \n",
    "\n",
    "no_rxn_data = []\n",
    "prod_not_identifiable = []\n",
    "my_cols = list(df_master.columns.values)\n",
    "for x in df_grzy['rxid']:\n",
    "    ##### Get temporary dataframe for all reaction rows that are present in the reaction ID. Note that these reaction IDs can contain multiple IDs\n",
    "    temp_df = df_master.loc[df_master['rxid']=='huh',:] ### quickly make dataframe with same columns but no rows, hence the meaningless 'huh'\n",
    "    for y in x.split(','):\n",
    "        temp_df = pd.concat([temp_df,df_master.loc[df_master['rxid']==y,:]])\n",
    "    \n",
    "    ##### Extract the yields and get the maximum\n",
    "    yields = [re.findall(r'[0-9]{1,3}\\.{0,1}[0-9]{0,4}',z) if type(z) is not float else z for z in temp_df['Yield (numerical)'].to_list() ]\n",
    "    yields = [max([float(z) for z in y]) if type(y) is not float else y for y in yields]\n",
    "\n",
    "    if len(yields) ==0:\n",
    "        max_yield = \"\"\n",
    "    else:\n",
    "        max_yield = max(yields)\n",
    "    \n",
    "    ##### Find the reaction. If there is one reaction that has one product, this is simple.\n",
    "    temp_rxns = [z for z in set(temp_df['Reaction']) if type(z) is not float and len(z.split('.')) == 2] \n",
    "    if len(temp_rxns) ==1:\n",
    "        my_rxn = temp_rxns[0]\n",
    "        \n",
    "    #### If all reactions have multiple products (or are blank), we need to get the major product by yield or molecular mass or create a product without stereocentres\n",
    "    elif len(temp_rxns) ==0:\n",
    "        rxn_found_via_yield=False\n",
    "        for row in temp_df.iterrows(): ### We go through each row and find the yield for the listed products and then pick the product with highest yield\n",
    "            row_yield = [float(y) for y in str(row[1][my_cols.index('Yield (numerical)')]).split(';')]\n",
    "            row_reaction = row[1][my_cols.index('Reaction')]\n",
    "            if type(row_reaction) == float:\n",
    "                continue\n",
    "            if len(row_yield) == len(row_reaction.split('>>')[1].split('.')):\n",
    "                my_rxn = f\"\"\"{row_reaction.split('>>')[0]}>>{max(zip(row_yield,row_reaction.split('>>')[1].split('.')))[1]}\"\"\"\n",
    "                rxn_found_via_yield = True\n",
    "                break\n",
    "                \n",
    "            ### If the yields do not help, we check for moelcular masses. DA reaction is 100% atom efficient so mass difference should be less than 1\n",
    "            reactant_mass = Descriptors.MolWt(Chem.MolFromSmiles(row_reaction.split('>>')[0]))\n",
    "            product_masses = {y:Descriptors.MolWt(Chem.MolFromSmiles(y)) for y in row_reaction.split('>>')[1].split('.')}\n",
    "            for pm in product_masses.keys():\n",
    "                if abs(reactant_mass -product_masses[pm]) <1:\n",
    "                    my_rxn = f\"\"\"{row_reaction.split('>>')[0]}>>{pm}\"\"\"\n",
    "                    rxn_found_via_yield=True\n",
    "                    break\n",
    "                    \n",
    "        #### If nothing else works, the solution is to make a reaction where no stereochemistry is involved\n",
    "        if not rxn_found_via_yield:  \n",
    "            rxn_found_via_nostereo = False\n",
    "            for row in temp_df.iterrows():\n",
    "                row_reaction = row[1][my_cols.index('Reaction')]\n",
    "                if type(row_reaction) == float: #### Ignore blanks\n",
    "                    continue\n",
    "                #### Remove stereochemistry from products then check if set() makes it 1 product. This generates regio/site-selective reactions\n",
    "                row_simp_prods = [Chem.MolToSmiles(Chem.MolFromSmiles(y),isomericSmiles=False) for y in row_reaction.split('>>')[1].split('.')]\n",
    "                if len(set(row_simp_prods)) ==1:\n",
    "                    my_rxn = f\"\"\"{row_reaction.split('>>')[0]}>>{row_simp_prods[0]}\"\"\"\n",
    "                    rxn_found_via_nostereo = True\n",
    "                    break\n",
    "                    \n",
    "            #### If nothing works, identify why this failed. Either no reaction data is present (blank) or some other issue occured\n",
    "            if not rxn_found_via_nostereo:\n",
    "                if len([y for y in temp_df['Reaction'].tolist() if type(y) is not float]) ==0:\n",
    "                    no_rxn_data.append(x)\n",
    "                else:\n",
    "                    prod_not_identifiable.append(x)\n",
    "                continue\n",
    "                \n",
    "    ### If we have multiple reactions where there is 1 product, pick the first reaction with stereochemistry, otherwise pick the first reaction\n",
    "    else:\n",
    "        temp_rxns_stereo = [z for z in temp_rxns if \"@\" in z]\n",
    "        if len(temp_rxns_stereo) ==0:\n",
    "            my_rxn = temp_rxns[0]\n",
    "        else:\n",
    "            my_rxn = temp_rxns_stereo[0]\n",
    "            \n",
    "    ### Make sure the reaction has been cleaned then add the dictionary to a list so that it can become a dataframe\n",
    "    my_rxn = f\"\"\"{Chem.MolToSmiles(Chem.MolFromSmiles(my_rxn.split('>>')[0]))}>>{Chem.MolToSmiles(Chem.MolFromSmiles(my_rxn.split('>>')[1]))}\"\"\"\n",
    "    for y in x.split(','):\n",
    "        df_ls.append({'rxid':y,'group':x,'yield':max_yield,'reaction':my_rxn})\n",
    "\n",
    "df_gryz_rxns = pd.DataFrame(df_ls)\n",
    "print(f'no reaction data for {len(no_rxn_data)} reactions\\nno product was identified for {len(prod_not_identifiable)} reactions\\n')"
   ]
  },
  {
   "cell_type": "markdown",
   "metadata": {},
   "source": [
    "### For reactions with no data, the RXIDs are extracted so that they can be imported into Reaxys and missing reactions exported in a different format"
   ]
  },
  {
   "cell_type": "code",
   "execution_count": null,
   "metadata": {},
   "outputs": [],
   "source": [
    "# no_rxn_IDs = [x for x in ','.join(no_rxn_data).split(',') if x[0].isdigit()]\n",
    "# with open('rxns_noRXN.txt','w') as wf:\n",
    "#     for x in no_rxn_IDs:\n",
    "#         wf.write(f'RX.ID={x}\\n')"
   ]
  },
  {
   "cell_type": "markdown",
   "metadata": {},
   "source": [
    "# 2) Extract Reactions from RDF format (.txt file)\n",
    "Sometimes the data is not exported properly into certain formats so instead of the .csv format, I have chosen the RDF format. Other formats can also be used but the corresponding code needs to be changed.\n",
    "\n",
    "Check that the yields in the RDF file matches the yields on the Reaxys website for the following IDs:\n",
    "2127634,4908869,8996022,2015581,3076836\n"
   ]
  },
  {
   "cell_type": "code",
   "execution_count": null,
   "metadata": {
    "scrolled": true
   },
   "outputs": [],
   "source": [
    "with open('missingRXNdata.txt','r') as rf:\n",
    "    my_file = rf.read()\n",
    "    reactions = my_file.split('$RFMT $RIREG ')\n",
    "\n",
    "rxn_data = []\n",
    "for r in reactions[1:]:\n",
    "#     print(r)\n",
    "    rxid = re.search(r'\\$DTYPE ROOT\\:RX_ID\\n\\$DATUM [\\d]*',r).group(0).split()[-1]\n",
    "    group = ''\n",
    "    for y in [x.split(',') for x in df_grzy['rxid'].to_list()]:\n",
    "        if rxid in y:\n",
    "            my_group = ','.join(y)\n",
    "    molecules = re.findall(r'\\$MOL[^\\$]*',r)\n",
    "    smiles = [Chem.MolToSmiles(Chem.MolFromMolBlock(x[5:])) for x in molecules]\n",
    "    num_r,num_p = [int(x) for x in re.search(r'\\$RXN\\n\\n  Marvin       102001222302\\n\\n  [\\d]\\s{1,2}[\\d]',r).group(0).split()[-2:]]\n",
    "    reactants,products = smiles[:num_r],smiles[-num_p:]\n",
    "    rxn_yield = re.search(r'\\$DTYPE ROOT\\:RXD\\([\\d]*\\)\\:NYD\\n\\$[^\\$]*',r)\n",
    "    \n",
    "    if rxn_yield is not None:\n",
    "        rxn_yield = [float(x) for x in re.findall(r'[\\d]+\\.{0,1}\\d{0,3}',rxn_yield.group(0)[22:])]\n",
    "#         rxn_yield = [float(x) for x in rxn_yield.group(0).split()[-1].split('|')]\n",
    "    else:\n",
    "        rxn_yield = re.search(r'\\$DTYPE ROOT\\:RXD\\([\\d]*\\)\\:YD\\n\\$[^\\$]*',r)\n",
    "        if rxn_yield is not None:\n",
    "            rxn_yield = [float(x) for x in re.findall(r'[\\d]+\\.{0,1}\\d{0,3}',rxn_yield.group(0)[22:])]\n",
    "        else:\n",
    "            rxn_yield = re.search(r'\\$DTYPE ROOT\\:RXD\\([\\d]*\\)\\:YDO\\n\\$[^\\$]*',r)\n",
    "            if rxn_yield is not None:\n",
    "                rxn_yield = [float(x) for x in re.findall(r'[\\d]+\\.{0,1}\\d{0,3}',rxn_yield.group(0)[22:])]\n",
    "            else:\n",
    "                rxn_yield = ['']\n",
    "    \n",
    "    if num_r == 1:\n",
    "        reactants = reactants+reactants\n",
    "        \n",
    "    if len(products) ==1:\n",
    "        if len(reactants) == 2:\n",
    "            rxn_smiles = f'{reactants[0]}.{reactants[1]}>>{products[0]}'\n",
    "            rxn_yield = rxn_yield[0]\n",
    "        else:\n",
    "            print(f'Rxn {rxid} has more than 2 reactants!')\n",
    "    else:\n",
    "        ### Check yields\n",
    "        if len(rxn_yield) == len(products):\n",
    "            my_rxn = f\"\"\"{reactants[0]}.{reactants[1]}>>{max(zip(rxn_yield,products))[1]}\"\"\"\n",
    "            rxn_data.append({'rxid':rxid,'group':my_group,'yield':max(rxn_yield),'reaction':my_rxn})\n",
    "            continue\n",
    "\n",
    "        react_combos = [x for x in itertools.product(reactants,repeat=2)] + [[x] for x in reactants]\n",
    "#         atom_eco = {sum([Descriptors.MolWt(Chem.MolFromSmiles(x)) for x in combo]):combo for combo in react_combos}\n",
    "        valid_combos = []\n",
    "        for p in products:\n",
    "            if abs(Descriptors.MolWt(Chem.MolFromSmiles(p))- Descriptors.MolWt(Chem.MolFromSmiles('.'.join(reactants)))) <1:\n",
    "                valid_combos.append(p)\n",
    "        if len(valid_combos) ==1:\n",
    "            my_rxn = f\"\"\"{reactants[0]}.{reactants[1]}>>{max(zip(rxn_yield,products))[1]}\"\"\"\n",
    "            rxn_data.append({'rxid':rxid,'group':my_group,'yield':max(rxn_yield),'reaction':my_rxn})\n",
    "            continue\n",
    "        else: ## convert to non-stereo\n",
    "            non_stereoproducts = [Chem.MolToSmiles(Chem.MolFromSmiles(x),isomericSmiles=False) for x in products]\n",
    "            if len(set(non_stereoproducts)) == 1:\n",
    "                my_rxn = f\"\"\"{Chem.MolToSmiles(Chem.MolFromSmiles(reactants[0]),isomericSmiles=False)}.{Chem.MolToSmiles(Chem.MolFromSmiles(reactants[1]),isomericSmiles=False)}>>{non_stereoproducts[0]}\"\"\"\n",
    "                rxn_data.append({'rxid':rxid,'group':my_group,'yield':max(rxn_yield),'reaction':my_rxn})\n",
    "                continue\n",
    "            print('This reaction cannot be identified',rxid,reactants,products)\n",
    "df_gryz_rxns_missing = pd.DataFrame(rxn_data)\n",
    "\n",
    "### Concat the previously extracted data with these additional reactions\n",
    "df_gryz_rxns_full = pd.concat([df_gryz_rxns,df_gryz_rxns_missing])\n",
    "df_gryz_rxns_full\n",
    "    \n"
   ]
  },
  {
   "cell_type": "markdown",
   "metadata": {},
   "source": [
    "# 3) Ensure Reactions are Unique\n"
   ]
  },
  {
   "cell_type": "code",
   "execution_count": null,
   "metadata": {},
   "outputs": [],
   "source": [
    "### Remove repeats but keep the first\n",
    "df_gryz_rxns_uniq = df_gryz_rxns_full.drop_duplicates(subset='reaction')\n",
    "df_gryz_rxns_uniq = df_gryz_rxns_uniq.drop_duplicates(subset='rxid')\n",
    "print(df_gryz_rxns_uniq.shape)\n",
    "df_gryz_rxns_uniq = df_gryz_rxns_uniq.drop_duplicates(subset='group')\n",
    "print(df_gryz_rxns_uniq.shape)\n",
    "\n",
    "#### Remove cases where the reactants are the same but the products differ\n",
    "my_cols = list(df_gryz_rxns_uniq.columns.values)\n",
    "unique_reactions = []\n",
    "ids_non_unique_reactions = []\n",
    "for row in df_gryz_rxns_uniq.iterrows():\n",
    "    reaction = row[1][my_cols.index('reaction')]\n",
    "    reaction_nostereo = f\"\"\"{reaction.split('>>')[0]}>>{Chem.MolToSmiles(Chem.MolFromSmiles(reaction.split('>>')[1]),isomericSmiles=False)}\"\"\"\n",
    "    if reaction_nostereo not in unique_reactions:\n",
    "        unique_reactions.append(reaction_nostereo)\n",
    "        continue\n",
    "    else:\n",
    "        ids_non_unique_reactions.append(row[1][my_cols.index('rxid')])\n",
    "df_gryz_rxns_uniq = df_gryz_rxns_uniq[~df_gryz_rxns_uniq['rxid'].isin(ids_non_unique_reactions)]\n",
    "print(df_gryz_rxns_uniq.shape)"
   ]
  },
  {
   "cell_type": "markdown",
   "metadata": {},
   "source": [
    "# 4) Put Reaction Data into CSV and Combine with Previous Dataset"
   ]
  },
  {
   "cell_type": "code",
   "execution_count": null,
   "metadata": {
    "scrolled": true
   },
   "outputs": [],
   "source": [
    "def clean_rxn(rxnsmiles):\n",
    "    if type(rxnsmiles)!=str:\n",
    "        return rxnsmiles\n",
    "    reactants,products = rxnsmiles.split('>>')\n",
    "    return f\"\"\"{Chem.MolToSmiles(Chem.MolFromSmiles(reactants))}>>{Chem.MolToSmiles(Chem.MolFromSmiles(products))}\"\"\"\n",
    "def create_rxn(diene,dienophile,product):\n",
    "    if type(dienophile) == float:\n",
    "        return f'{diene}>>{product}'\n",
    "    return f'{diene}.{dienophile}>>{product}'\n",
    "\n",
    "### Previous dataset from Reaxys_Data_Extraction.ipynb\n",
    "df12773 = pd.read_csv('firstdataset.csv')\n",
    "gryzrxns = copy.copy(df_gryz_rxns_uniq)\n",
    "df12773 = df12773.rename(columns={'Reaction ID':'rxid'})\n",
    "\n",
    "### Format/Canonicalize SMILES\n",
    "df12773['reactionsmiles'] = df12773.apply (lambda row: create_rxn(row['Diene'],row['Dienophile'],row['Major Product']), axis=1)\n",
    "df12773['Cleaned_Reaction_Smiles'] = df12773.apply (lambda row: clean_rxn(row['reactionsmiles']), axis=1)\n",
    "gryzrxns['Cleaned_Reaction_Smiles'] = gryzrxns.apply (lambda row: clean_rxn(row['reaction']), axis=1)\n",
    "\n",
    "### Merge files\n",
    "dfmerged = pd.concat([df12773,gryzrxns])\n",
    "dfmerged = dfmerged.drop_duplicates('rxid')\n",
    "dfmerged = dfmerged.drop_duplicates('Cleaned_Reaction_Smiles')\n",
    "dfmerged.to_csv(f'unverifiedrxns_{dfmerged.shape[0]}.csv')\n",
    "dfmerged"
   ]
  },
  {
   "cell_type": "code",
   "execution_count": null,
   "metadata": {},
   "outputs": [],
   "source": []
  }
 ],
 "metadata": {
  "kernelspec": {
   "display_name": "rdchiral_env",
   "language": "python",
   "name": "rdchiral_env"
  },
  "language_info": {
   "codemirror_mode": {
    "name": "ipython",
    "version": 3
   },
   "file_extension": ".py",
   "mimetype": "text/x-python",
   "name": "python",
   "nbconvert_exporter": "python",
   "pygments_lexer": "ipython3",
   "version": "3.9.12"
  }
 },
 "nbformat": 4,
 "nbformat_minor": 4
}
